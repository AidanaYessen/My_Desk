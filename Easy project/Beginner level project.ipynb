{
 "cells": [
  {
   "cell_type": "code",
   "execution_count": 1,
   "id": "cf71a10e",
   "metadata": {},
   "outputs": [],
   "source": [
    "import pandas as pd\n",
    "import matplotlib as mt\n",
    "import numpy as np"
   ]
  },
  {
   "cell_type": "code",
   "execution_count": 3,
   "id": "1a830320",
   "metadata": {},
   "outputs": [],
   "source": [
    "df = pd.read_csv('D:\\student_exam_data.csv')"
   ]
  },
  {
   "cell_type": "code",
   "execution_count": 6,
   "id": "0036dcac",
   "metadata": {},
   "outputs": [
    {
     "data": {
      "text/html": [
       "<div>\n",
       "<style scoped>\n",
       "    .dataframe tbody tr th:only-of-type {\n",
       "        vertical-align: middle;\n",
       "    }\n",
       "\n",
       "    .dataframe tbody tr th {\n",
       "        vertical-align: top;\n",
       "    }\n",
       "\n",
       "    .dataframe thead th {\n",
       "        text-align: right;\n",
       "    }\n",
       "</style>\n",
       "<table border=\"1\" class=\"dataframe\">\n",
       "  <thead>\n",
       "    <tr style=\"text-align: right;\">\n",
       "      <th></th>\n",
       "      <th>Study Hours</th>\n",
       "      <th>Previous Exam Score</th>\n",
       "      <th>Pass/Fail</th>\n",
       "    </tr>\n",
       "  </thead>\n",
       "  <tbody>\n",
       "    <tr>\n",
       "      <th>0</th>\n",
       "      <td>4.370861</td>\n",
       "      <td>81.889703</td>\n",
       "      <td>0</td>\n",
       "    </tr>\n",
       "    <tr>\n",
       "      <th>1</th>\n",
       "      <td>9.556429</td>\n",
       "      <td>72.165782</td>\n",
       "      <td>1</td>\n",
       "    </tr>\n",
       "    <tr>\n",
       "      <th>2</th>\n",
       "      <td>7.587945</td>\n",
       "      <td>58.571657</td>\n",
       "      <td>0</td>\n",
       "    </tr>\n",
       "    <tr>\n",
       "      <th>3</th>\n",
       "      <td>6.387926</td>\n",
       "      <td>88.827701</td>\n",
       "      <td>1</td>\n",
       "    </tr>\n",
       "    <tr>\n",
       "      <th>4</th>\n",
       "      <td>2.404168</td>\n",
       "      <td>81.083870</td>\n",
       "      <td>0</td>\n",
       "    </tr>\n",
       "    <tr>\n",
       "      <th>5</th>\n",
       "      <td>2.403951</td>\n",
       "      <td>49.757016</td>\n",
       "      <td>0</td>\n",
       "    </tr>\n",
       "    <tr>\n",
       "      <th>6</th>\n",
       "      <td>1.522753</td>\n",
       "      <td>94.655631</td>\n",
       "      <td>0</td>\n",
       "    </tr>\n",
       "    <tr>\n",
       "      <th>7</th>\n",
       "      <td>8.795585</td>\n",
       "      <td>89.352235</td>\n",
       "      <td>1</td>\n",
       "    </tr>\n",
       "  </tbody>\n",
       "</table>\n",
       "</div>"
      ],
      "text/plain": [
       "   Study Hours  Previous Exam Score  Pass/Fail\n",
       "0     4.370861            81.889703          0\n",
       "1     9.556429            72.165782          1\n",
       "2     7.587945            58.571657          0\n",
       "3     6.387926            88.827701          1\n",
       "4     2.404168            81.083870          0\n",
       "5     2.403951            49.757016          0\n",
       "6     1.522753            94.655631          0\n",
       "7     8.795585            89.352235          1"
      ]
     },
     "execution_count": 6,
     "metadata": {},
     "output_type": "execute_result"
    }
   ],
   "source": [
    "df.head(8)"
   ]
  },
  {
   "cell_type": "code",
   "execution_count": 29,
   "id": "4f74228c",
   "metadata": {},
   "outputs": [],
   "source": [
    "#Calculating how many hours on ave, min & max two groups of students studied\n",
    "study_hours = df.groupby('Pass/Fail', as_index=False)\\\n",
    "    .agg({'Study Hours': ['mean', 'min', 'max']}).round(0)\n",
    "\n",
    "study_hours.columns = ['Pass/Fail', 'mean_study_hours', 'min_study_hours', 'max_study_hours']"
   ]
  },
  {
   "cell_type": "code",
   "execution_count": 30,
   "id": "5acfb2a5",
   "metadata": {},
   "outputs": [
    {
     "data": {
      "text/html": [
       "<div>\n",
       "<style scoped>\n",
       "    .dataframe tbody tr th:only-of-type {\n",
       "        vertical-align: middle;\n",
       "    }\n",
       "\n",
       "    .dataframe tbody tr th {\n",
       "        vertical-align: top;\n",
       "    }\n",
       "\n",
       "    .dataframe thead th {\n",
       "        text-align: right;\n",
       "    }\n",
       "</style>\n",
       "<table border=\"1\" class=\"dataframe\">\n",
       "  <thead>\n",
       "    <tr style=\"text-align: right;\">\n",
       "      <th></th>\n",
       "      <th>Pass/Fail</th>\n",
       "      <th>mean_study_hours</th>\n",
       "      <th>min_study_hours</th>\n",
       "      <th>max_study_hours</th>\n",
       "    </tr>\n",
       "  </thead>\n",
       "  <tbody>\n",
       "    <tr>\n",
       "      <th>0</th>\n",
       "      <td>0</td>\n",
       "      <td>4.0</td>\n",
       "      <td>1.0</td>\n",
       "      <td>10.0</td>\n",
       "    </tr>\n",
       "    <tr>\n",
       "      <th>1</th>\n",
       "      <td>1</td>\n",
       "      <td>8.0</td>\n",
       "      <td>5.0</td>\n",
       "      <td>10.0</td>\n",
       "    </tr>\n",
       "  </tbody>\n",
       "</table>\n",
       "</div>"
      ],
      "text/plain": [
       "   Pass/Fail  mean_study_hours  min_study_hours  max_study_hours\n",
       "0          0               4.0              1.0             10.0\n",
       "1          1               8.0              5.0             10.0"
      ]
     },
     "execution_count": 30,
     "metadata": {},
     "output_type": "execute_result"
    }
   ],
   "source": [
    "study_hours"
   ]
  },
  {
   "cell_type": "code",
   "execution_count": 32,
   "id": "369148bb",
   "metadata": {},
   "outputs": [],
   "source": [
    "#Calculating what ave, min & max scores on previous exams did students receive\n",
    "previous_exam_score = df.groupby('Pass/Fail', as_index = False)\\\n",
    "    .agg({'Previous Exam Score' : ['mean', 'min', 'max']}).round(0)\n",
    "\n",
    "previous_exam_score.columns = ['Pass/Fail', 'mean_previous_exam_score', 'min_previous_exam_score', 'max_previous_exam_score']"
   ]
  },
  {
   "cell_type": "code",
   "execution_count": 33,
   "id": "a82af9cb",
   "metadata": {},
   "outputs": [
    {
     "data": {
      "text/html": [
       "<div>\n",
       "<style scoped>\n",
       "    .dataframe tbody tr th:only-of-type {\n",
       "        vertical-align: middle;\n",
       "    }\n",
       "\n",
       "    .dataframe tbody tr th {\n",
       "        vertical-align: top;\n",
       "    }\n",
       "\n",
       "    .dataframe thead th {\n",
       "        text-align: right;\n",
       "    }\n",
       "</style>\n",
       "<table border=\"1\" class=\"dataframe\">\n",
       "  <thead>\n",
       "    <tr style=\"text-align: right;\">\n",
       "      <th></th>\n",
       "      <th>Pass/Fail</th>\n",
       "      <th>mean_previous_exam_score</th>\n",
       "      <th>min_previous_exam_score</th>\n",
       "      <th>max_previous_exam_score</th>\n",
       "    </tr>\n",
       "  </thead>\n",
       "  <tbody>\n",
       "    <tr>\n",
       "      <th>0</th>\n",
       "      <td>0</td>\n",
       "      <td>63.0</td>\n",
       "      <td>40.0</td>\n",
       "      <td>100.0</td>\n",
       "    </tr>\n",
       "    <tr>\n",
       "      <th>1</th>\n",
       "      <td>1</td>\n",
       "      <td>79.0</td>\n",
       "      <td>60.0</td>\n",
       "      <td>99.0</td>\n",
       "    </tr>\n",
       "  </tbody>\n",
       "</table>\n",
       "</div>"
      ],
      "text/plain": [
       "   Pass/Fail  mean_previous_exam_score  min_previous_exam_score  \\\n",
       "0          0                      63.0                     40.0   \n",
       "1          1                      79.0                     60.0   \n",
       "\n",
       "   max_previous_exam_score  \n",
       "0                    100.0  \n",
       "1                     99.0  "
      ]
     },
     "execution_count": 33,
     "metadata": {},
     "output_type": "execute_result"
    }
   ],
   "source": [
    "previous_exam_score"
   ]
  },
  {
   "cell_type": "code",
   "execution_count": 43,
   "id": "8da01a7b",
   "metadata": {},
   "outputs": [],
   "source": [
    "#merging results of two dataframes to have an overview\n",
    "merged_data = study_hours \\\n",
    "    .merge(previous_exam_score, on = 'Pass/Fail')"
   ]
  },
  {
   "cell_type": "code",
   "execution_count": 44,
   "id": "63bc6171",
   "metadata": {},
   "outputs": [
    {
     "data": {
      "text/html": [
       "<div>\n",
       "<style scoped>\n",
       "    .dataframe tbody tr th:only-of-type {\n",
       "        vertical-align: middle;\n",
       "    }\n",
       "\n",
       "    .dataframe tbody tr th {\n",
       "        vertical-align: top;\n",
       "    }\n",
       "\n",
       "    .dataframe thead th {\n",
       "        text-align: right;\n",
       "    }\n",
       "</style>\n",
       "<table border=\"1\" class=\"dataframe\">\n",
       "  <thead>\n",
       "    <tr style=\"text-align: right;\">\n",
       "      <th></th>\n",
       "      <th>Pass/Fail</th>\n",
       "      <th>mean_study_hours</th>\n",
       "      <th>min_study_hours</th>\n",
       "      <th>max_study_hours</th>\n",
       "      <th>mean_previous_exam_score</th>\n",
       "      <th>min_previous_exam_score</th>\n",
       "      <th>max_previous_exam_score</th>\n",
       "    </tr>\n",
       "  </thead>\n",
       "  <tbody>\n",
       "    <tr>\n",
       "      <th>0</th>\n",
       "      <td>0</td>\n",
       "      <td>4.0</td>\n",
       "      <td>1.0</td>\n",
       "      <td>10.0</td>\n",
       "      <td>63.0</td>\n",
       "      <td>40.0</td>\n",
       "      <td>100.0</td>\n",
       "    </tr>\n",
       "    <tr>\n",
       "      <th>1</th>\n",
       "      <td>1</td>\n",
       "      <td>8.0</td>\n",
       "      <td>5.0</td>\n",
       "      <td>10.0</td>\n",
       "      <td>79.0</td>\n",
       "      <td>60.0</td>\n",
       "      <td>99.0</td>\n",
       "    </tr>\n",
       "  </tbody>\n",
       "</table>\n",
       "</div>"
      ],
      "text/plain": [
       "   Pass/Fail  mean_study_hours  min_study_hours  max_study_hours  \\\n",
       "0          0               4.0              1.0             10.0   \n",
       "1          1               8.0              5.0             10.0   \n",
       "\n",
       "   mean_previous_exam_score  min_previous_exam_score  max_previous_exam_score  \n",
       "0                      63.0                     40.0                    100.0  \n",
       "1                      79.0                     60.0                     99.0  "
      ]
     },
     "execution_count": 44,
     "metadata": {},
     "output_type": "execute_result"
    }
   ],
   "source": [
    "merged_data"
   ]
  },
  {
   "cell_type": "code",
   "execution_count": 45,
   "id": "355474f4",
   "metadata": {},
   "outputs": [
    {
     "data": {
      "text/html": [
       "<div>\n",
       "<style scoped>\n",
       "    .dataframe tbody tr th:only-of-type {\n",
       "        vertical-align: middle;\n",
       "    }\n",
       "\n",
       "    .dataframe tbody tr th {\n",
       "        vertical-align: top;\n",
       "    }\n",
       "\n",
       "    .dataframe thead th {\n",
       "        text-align: right;\n",
       "    }\n",
       "</style>\n",
       "<table border=\"1\" class=\"dataframe\">\n",
       "  <thead>\n",
       "    <tr style=\"text-align: right;\">\n",
       "      <th></th>\n",
       "      <th>0</th>\n",
       "      <th>1</th>\n",
       "    </tr>\n",
       "  </thead>\n",
       "  <tbody>\n",
       "    <tr>\n",
       "      <th>Pass/Fail</th>\n",
       "      <td>0.0</td>\n",
       "      <td>1.0</td>\n",
       "    </tr>\n",
       "    <tr>\n",
       "      <th>mean_study_hours</th>\n",
       "      <td>4.0</td>\n",
       "      <td>8.0</td>\n",
       "    </tr>\n",
       "    <tr>\n",
       "      <th>min_study_hours</th>\n",
       "      <td>1.0</td>\n",
       "      <td>5.0</td>\n",
       "    </tr>\n",
       "    <tr>\n",
       "      <th>max_study_hours</th>\n",
       "      <td>10.0</td>\n",
       "      <td>10.0</td>\n",
       "    </tr>\n",
       "    <tr>\n",
       "      <th>mean_previous_exam_score</th>\n",
       "      <td>63.0</td>\n",
       "      <td>79.0</td>\n",
       "    </tr>\n",
       "    <tr>\n",
       "      <th>min_previous_exam_score</th>\n",
       "      <td>40.0</td>\n",
       "      <td>60.0</td>\n",
       "    </tr>\n",
       "    <tr>\n",
       "      <th>max_previous_exam_score</th>\n",
       "      <td>100.0</td>\n",
       "      <td>99.0</td>\n",
       "    </tr>\n",
       "  </tbody>\n",
       "</table>\n",
       "</div>"
      ],
      "text/plain": [
       "                              0     1\n",
       "Pass/Fail                   0.0   1.0\n",
       "mean_study_hours            4.0   8.0\n",
       "min_study_hours             1.0   5.0\n",
       "max_study_hours            10.0  10.0\n",
       "mean_previous_exam_score   63.0  79.0\n",
       "min_previous_exam_score    40.0  60.0\n",
       "max_previous_exam_score   100.0  99.0"
      ]
     },
     "execution_count": 45,
     "metadata": {},
     "output_type": "execute_result"
    }
   ],
   "source": [
    "#reversing columns & rows for better visibility\n",
    "merged_data.transpose()"
   ]
  },
  {
   "cell_type": "code",
   "execution_count": 47,
   "id": "a72e990e",
   "metadata": {},
   "outputs": [
    {
     "name": "stdout",
     "output_type": "stream",
     "text": [
      "# of students who passed:  184\n",
      "# of students who failed:  316\n"
     ]
    }
   ],
   "source": [
    "#Assessing how much students of each type (1 = passed exam, 0 = failed exam) are in the dataframe\n",
    "students = df[\"Pass/Fail\"].value_counts()\n",
    "\n",
    "print('# of students who passed: ', students[1])\n",
    "print('# of students who failed: ', students[0])"
   ]
  },
  {
   "cell_type": "code",
   "execution_count": 48,
   "id": "ddcecc16",
   "metadata": {},
   "outputs": [
    {
     "name": "stdout",
     "output_type": "stream",
     "text": [
      "Percentage of students who failed and spent more than average time studying: 28.16%\n"
     ]
    }
   ],
   "source": [
    "#Showing what percentage of students who failed the exam spent more than average time to study\n",
    "\n",
    "average_study_hours = df['Study Hours'].mean()\n",
    "\n",
    "# Filtering the DataFrame for students who failed the exam\n",
    "failed_students = df[df['Pass/Fail'] == 0]\n",
    "\n",
    "# Checking the number of failed students who spent more than the average time studying\n",
    "failed_students_above_average = failed_students[failed_students['Study Hours'] > average_study_hours]\n",
    "num_failed_above_average = len(failed_students_above_average)\n",
    "\n",
    "percentage_failed_above_average = (num_failed_above_average / len(failed_students)) * 100\n",
    "\n",
    "# Displpaying results\n",
    "print(f\"Percentage of students who failed and spent more than average time studying: {percentage_failed_above_average:.2f}%\")\n"
   ]
  },
  {
   "cell_type": "code",
   "execution_count": 49,
   "id": "021a7a92",
   "metadata": {},
   "outputs": [
    {
     "name": "stdout",
     "output_type": "stream",
     "text": [
      "Percentage of students who passed and spent more than average time studying: 92.39%\n"
     ]
    }
   ],
   "source": [
    "#Showing what percentage of students who passed the exam spent more than average time to study\n",
    "\n",
    "average_study_hours = df['Study Hours'].mean()\n",
    "\n",
    "# Filtering the DataFrame for students who passed the exam\n",
    "passed_students = df[df['Pass/Fail'] == 1]\n",
    "\n",
    "# Checking the number of students who passed test and spent more than the average time studying\n",
    "passed_students_above_average = passed_students[passed_students['Study Hours'] > average_study_hours]\n",
    "num_passed_above_average = len(passed_students_above_average)\n",
    "\n",
    "percentage_passed_above_average = (num_passed_above_average / len(passed_students)) * 100\n",
    "\n",
    "# Showing results\n",
    "print(f\"Percentage of students who passed and spent more than average time studying: {percentage_passed_above_average:.2f}%\")\n"
   ]
  }
 ],
 "metadata": {
  "kernelspec": {
   "display_name": "Python 3 (ipykernel)",
   "language": "python",
   "name": "python3"
  },
  "language_info": {
   "codemirror_mode": {
    "name": "ipython",
    "version": 3
   },
   "file_extension": ".py",
   "mimetype": "text/x-python",
   "name": "python",
   "nbconvert_exporter": "python",
   "pygments_lexer": "ipython3",
   "version": "3.9.13"
  }
 },
 "nbformat": 4,
 "nbformat_minor": 5
}
